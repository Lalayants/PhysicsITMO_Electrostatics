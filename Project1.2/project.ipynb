{
 "cells": [
  {
   "cell_type": "markdown",
   "metadata": {},
   "source": [
    "#  Движение частицы с зарядом q и массой m в кулоновском поле неподвижной частицы с зарядом Q."
   ]
  },
  {
   "cell_type": "markdown",
   "metadata": {},
   "source": [
    "Движение описывается с помощью закона\n",
    "$$\\vec{F} = \\frac{1}{4\\pi\\epsilon\\epsilon _0}\\frac{qQ}{r^3}\\vec{r}$$\n",
    "\n",
    "В системе координат, начало которой привязано к неподвижному заряду $Q$, уравнения модели имеют вид:\n",
    "$$m\\frac{dV_x}{dt} = \\frac{1}{4\\pi\\epsilon\\epsilon _0}\\frac{qQ}{x^2 + y^2}\\frac{x}{\\sqrt{x^2 + y^2}}, \\;\\;\\;\\; \\frac{dx}{dt} = V_x$$\n",
    "$$m\\frac{dV_y}{dt} = \\frac{1}{4\\pi\\epsilon\\epsilon _0}\\frac{qQ}{x^2 + y^2}\\frac{y}{\\sqrt{x^2 + y^2}}, \\;\\;\\;\\; \\frac{dy}{dt} = V_x$$\n",
    "\n",
    "Начальными условия определяются двумя параметрами: начальной скоростью $V_0$ и углом $\\alpha$.\n",
    "\n",
    "$$x(0) = x_0, \\;\\;\\;\\; y(0) = y_0$$\n",
    "$$ V_{x_0} = V_0cos(\\alpha) \\;\\;\\;\\; V_{y_0} = V_0sin(\\alpha)$$"
   ]
  },
  {
   "cell_type": "markdown",
   "metadata": {},
   "source": [
    "# Моделирование"
   ]
  },
  {
   "cell_type": "code",
   "execution_count": 1,
   "metadata": {},
   "outputs": [],
   "source": [
    "import numpy as np\n",
    "import matplotlib.pyplot as plt\n",
    "import model"
   ]
  },
  {
   "cell_type": "code",
   "execution_count": 2,
   "metadata": {},
   "outputs": [
    {
     "name": "stdout",
     "output_type": "stream",
     "text": [
      "1e-06 -1258.2555190116188 0.0\n",
      "2e-06 -2524.4570419124348 0.0\n",
      "3e-06 -3806.7831215946962 0.0\n",
      "4e-06 -5113.892954173161 0.0\n",
      "4.9999999999999996e-06 -6455.20743087765 0.0\n",
      "5.999999999999999e-06 -7841.24465013935 0.0\n",
      "6.999999999999999e-06 -9284.038515867314 0.0\n",
      "8e-06 -10797.680708010685 0.0\n",
      "9e-06 -12399.045177775792 0.0\n",
      "1e-05 -14108.785149751711 0.0\n",
      "1.1000000000000001e-05 -15952.74407641326 0.0\n",
      "1.2000000000000002e-05 -17964.01040438518 0.0\n",
      "1.3000000000000003e-05 -20186.003322519682 0.0\n",
      "1.4000000000000003e-05 -22677.26837285617 0.0\n",
      "1.5000000000000004e-05 -25519.229667917072 0.0\n",
      "1.6000000000000003e-05 -28829.31627020231 0.0\n",
      "1.7000000000000003e-05 -32784.46643026753 0.0\n",
      "1.8000000000000004e-05 -37666.227511664634 0.0\n",
      "1.9000000000000004e-05 -43955.26260679782 0.0\n",
      "2.0000000000000005e-05 -52553.87663284155 0.0\n",
      "2.1000000000000006e-05 -65402.50612597194 0.0\n",
      "2.2000000000000006e-05 -87663.09315313755 0.0\n",
      "2.3000000000000007e-05 -139558.39433576658 0.0\n",
      "2.4000000000000007e-05 -434695.430092782 0.0\n",
      "2.5000000000000008e-05 131893949.27199069 0.0\n"
     ]
    },
    {
     "data": {
      "text/plain": [
       "<matplotlib.collections.PathCollection at 0x11b9ea610>"
      ]
     },
     "execution_count": 2,
     "metadata": {},
     "output_type": "execute_result"
    },
    {
     "data": {
      "image/png": "[encoded data removed]",
      "text/plain": [
       "<Figure size 640x480 with 1 Axes>"
      ]
     },
     "metadata": {},
     "output_type": "display_data"
    }
   ],
   "source": [
    "# %matplotlib notebook\n",
    "# q_e = 1.6 * 10 ** -19\n",
    "# m_e = 9.1 * 10 ** -31\n",
    "\n",
    "l = 1\n",
    "Q = 0.07\n",
    "q = -0.001\n",
    "m = 0.001\n",
    "alpha = -0.25\n",
    "V_0 = -0.0\n",
    "dt = 10 ** -9\n",
    "x, y = model.calculate_trajectory(l=l, q=q, m = m, Q=Q, alpha=alpha, V_0=V_0, dt=dt, epsilon=1)\n",
    "plt.plot(x,y)\n",
    "plt.scatter(0,0)"
   ]
  },
  {
   "cell_type": "code",
   "execution_count": 14,
   "metadata": {},
   "outputs": [
    {
     "data": {
      "text/plain": [
       "array([ 1.00000000e+00,  9.98741744e-01,  9.96217287e-01,  9.92410504e-01,\n",
       "        9.87296611e-01,  9.80841404e-01,  9.73000159e-01,  9.63716121e-01,\n",
       "        9.52918440e-01,  9.40519395e-01,  9.26410610e-01,  9.10457866e-01,\n",
       "        8.92493855e-01,  8.72307852e-01,  8.49630584e-01,  8.24111354e-01,\n",
       "        7.95282038e-01,  7.62497571e-01,  7.24831344e-01,  6.80876081e-01,\n",
       "        6.28322204e-01,  5.62919698e-01,  4.75256605e-01,  3.35698211e-01,\n",
       "       -9.89972193e-02,  1.31794952e+02])"
      ]
     },
     "execution_count": 14,
     "metadata": {},
     "output_type": "execute_result"
    }
   ],
   "source": [
    "x"
   ]
  },
  {
   "cell_type": "code",
   "execution_count": 10,
   "metadata": {},
   "outputs": [
    {
     "data": {
      "text/plain": [
       "131.79495205271806"
      ]
     },
     "execution_count": 10,
     "metadata": {},
     "output_type": "execute_result"
    }
   ],
   "source": [
    "max(x)"
   ]
  },
  {
   "cell_type": "code",
   "execution_count": 4,
   "metadata": {},
   "outputs": [
    {
     "data": {
      "text/plain": [
       "array([ 0.00000000e+00, -1.41120008e-05])"
      ]
     },
     "execution_count": 4,
     "metadata": {},
     "output_type": "execute_result"
    }
   ],
   "source": [
    "y"
   ]
  },
  {
   "cell_type": "code",
   "execution_count": null,
   "metadata": {},
   "outputs": [],
   "source": []
  }
 ],
 "metadata": {
  "kernelspec": {
   "display_name": "Python 3.9.4 ('физика': venv)",
   "language": "python",
   "name": "python3"
  },
  "language_info": {
   "codemirror_mode": {
    "name": "ipython",
    "version": 3
   },
   "file_extension": ".py",
   "mimetype": "text/x-python",
   "name": "python",
   "nbconvert_exporter": "python",
   "pygments_lexer": "ipython3",
   "version": "3.9.4"
  },
  "orig_nbformat": 4,
  "vscode": {
   "interpreter": {
    "hash": "8a6346fe04895c09f63061fdcb1f4ae785c0a2dafb06bd47121824d93a6d8cae"
   }
  }
 },
 "nbformat": 4,
 "nbformat_minor": 2
}
