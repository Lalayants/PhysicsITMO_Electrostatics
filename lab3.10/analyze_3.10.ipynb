{
 "cells": [
  {
   "cell_type": "markdown",
   "metadata": {
    "pycharm": {
     "name": "#%% md\n"
    }
   },
   "source": [
    "## Preparation"
   ]
  },
  {
   "cell_type": "markdown",
   "metadata": {
    "pycharm": {
     "name": "#%% md\n"
    }
   },
   "source": [
    "Все нужные либы и проверка в какой директории работаем"
   ]
  },
  {
   "cell_type": "markdown",
   "metadata": {
    "pycharm": {
     "name": "#%% md\n"
    }
   },
   "source": [
    "Эту ячеку надо выполнять только в первый раз для установки всех либ. Лучше создать env"
   ]
  },
  {
   "cell_type": "code",
   "execution_count": 1,
   "metadata": {
    "pycharm": {
     "name": "#%%\n"
    }
   },
   "outputs": [],
   "source": [
    "!pip3 install -r ../requirements.txt\n",
    "\n",
    "from IPython.display import clear_output\n",
    "clear_output() # если что-то не работает, уберите эту строчку и смотрите на ошибки"
   ]
  },
  {
   "cell_type": "markdown",
   "metadata": {
    "pycharm": {
     "name": "#%% md\n"
    }
   },
   "source": [
    "Импорт всех либ"
   ]
  },
  {
   "cell_type": "code",
   "execution_count": 1,
   "metadata": {
    "pycharm": {
     "name": "#%%\n"
    }
   },
   "outputs": [
    {
     "data": {
      "text/plain": [
       "'/Users/kirilllalayants/Desktop/физика/PhysicsITMO_Electrostatics/lab3.10'"
      ]
     },
     "execution_count": 1,
     "metadata": {},
     "output_type": "execute_result"
    }
   ],
   "source": [
    "import numpy as np\n",
    "import matplotlib.pyplot as plt\n",
    "import pandas as pd\n",
    "import os \n",
    "import xlsxwriter\n",
    "os.getcwd()"
   ]
  },
  {
   "cell_type": "markdown",
   "metadata": {
    "pycharm": {
     "name": "#%% md\n"
    }
   },
   "source": [
    "Создание эксель файла, в котором потом все сохраним\n"
   ]
  },
  {
   "cell_type": "code",
   "execution_count": 2,
   "metadata": {
    "pycharm": {
     "name": "#%%\n"
    }
   },
   "outputs": [
    {
     "name": "stdout",
     "output_type": "stream",
     "text": [
      "(1, 11) (13, 9) (0, 1)\n"
     ]
    }
   ],
   "source": [
    "NAME_OF_EXCEL = 'data.xlsx'\n",
    "# if not os.path.exists(NAME_OF_EXCEL):\n",
    "#     xlsxwriter.Workbook(NAME_OF_EXCEL).close()\n",
    "data_1 = pd.read_excel(NAME_OF_EXCEL, 'table1')  \n",
    "data_2 = pd.read_excel(NAME_OF_EXCEL, 'table2')   \n",
    "table_consts = pd.read_excel(NAME_OF_EXCEL, 'consts')  \n",
    "print(table_consts.shape, data_1.shape, data_2.shape) "
   ]
  },
  {
   "cell_type": "markdown",
   "metadata": {},
   "source": [
    "# Обработка"
   ]
  },
  {
   "cell_type": "markdown",
   "metadata": {},
   "source": [
    "### 1. Вычислить  значения  логарифмического  декремента lambda"
   ]
  },
  {
   "cell_type": "code",
   "execution_count": 3,
   "metadata": {},
   "outputs": [
    {
     "data": {
      "text/html": [
       "<div>\n",
       "<style scoped>\n",
       "    .dataframe tbody tr th:only-of-type {\n",
       "        vertical-align: middle;\n",
       "    }\n",
       "\n",
       "    .dataframe tbody tr th {\n",
       "        vertical-align: top;\n",
       "    }\n",
       "\n",
       "    .dataframe thead th {\n",
       "        text-align: right;\n",
       "    }\n",
       "</style>\n",
       "<table border=\"1\" class=\"dataframe\">\n",
       "  <thead>\n",
       "    <tr style=\"text-align: right;\">\n",
       "      <th></th>\n",
       "      <th>Rm, Ohm</th>\n",
       "      <th>T, s</th>\n",
       "      <th>2Ui, ticks</th>\n",
       "      <th>2Ui+n, ticks</th>\n",
       "      <th>N</th>\n",
       "      <th>lambda</th>\n",
       "      <th>Q</th>\n",
       "      <th>R, Ohm</th>\n",
       "      <th>L, H</th>\n",
       "    </tr>\n",
       "  </thead>\n",
       "  <tbody>\n",
       "    <tr>\n",
       "      <th>0</th>\n",
       "      <td>10</td>\n",
       "      <td>0.00008</td>\n",
       "      <td>5.2</td>\n",
       "      <td>2.4</td>\n",
       "      <td>2</td>\n",
       "      <td>0.386595</td>\n",
       "      <td>NaN</td>\n",
       "      <td>10.367652</td>\n",
       "      <td>0.000156</td>\n",
       "    </tr>\n",
       "    <tr>\n",
       "      <th>1</th>\n",
       "      <td>20</td>\n",
       "      <td>0.00008</td>\n",
       "      <td>10.0</td>\n",
       "      <td>2.4</td>\n",
       "      <td>3</td>\n",
       "      <td>0.475705</td>\n",
       "      <td>NaN</td>\n",
       "      <td>20.367652</td>\n",
       "      <td>0.000398</td>\n",
       "    </tr>\n",
       "    <tr>\n",
       "      <th>2</th>\n",
       "      <td>30</td>\n",
       "      <td>0.00008</td>\n",
       "      <td>9.6</td>\n",
       "      <td>2.0</td>\n",
       "      <td>3</td>\n",
       "      <td>0.522872</td>\n",
       "      <td>NaN</td>\n",
       "      <td>30.367652</td>\n",
       "      <td>0.000732</td>\n",
       "    </tr>\n",
       "    <tr>\n",
       "      <th>3</th>\n",
       "      <td>40</td>\n",
       "      <td>0.00008</td>\n",
       "      <td>9.2</td>\n",
       "      <td>3.2</td>\n",
       "      <td>2</td>\n",
       "      <td>0.528026</td>\n",
       "      <td>NaN</td>\n",
       "      <td>40.367652</td>\n",
       "      <td>0.001269</td>\n",
       "    </tr>\n",
       "    <tr>\n",
       "      <th>4</th>\n",
       "      <td>50</td>\n",
       "      <td>0.00008</td>\n",
       "      <td>8.8</td>\n",
       "      <td>2.8</td>\n",
       "      <td>2</td>\n",
       "      <td>0.572566</td>\n",
       "      <td>NaN</td>\n",
       "      <td>50.367652</td>\n",
       "      <td>0.001680</td>\n",
       "    </tr>\n",
       "    <tr>\n",
       "      <th>5</th>\n",
       "      <td>60</td>\n",
       "      <td>0.00008</td>\n",
       "      <td>8.4</td>\n",
       "      <td>2.4</td>\n",
       "      <td>2</td>\n",
       "      <td>0.626381</td>\n",
       "      <td>NaN</td>\n",
       "      <td>60.367652</td>\n",
       "      <td>0.002017</td>\n",
       "    </tr>\n",
       "    <tr>\n",
       "      <th>6</th>\n",
       "      <td>70</td>\n",
       "      <td>0.00008</td>\n",
       "      <td>8.0</td>\n",
       "      <td>2.0</td>\n",
       "      <td>2</td>\n",
       "      <td>0.693147</td>\n",
       "      <td>NaN</td>\n",
       "      <td>70.367652</td>\n",
       "      <td>0.002238</td>\n",
       "    </tr>\n",
       "    <tr>\n",
       "      <th>7</th>\n",
       "      <td>80</td>\n",
       "      <td>0.00008</td>\n",
       "      <td>7.6</td>\n",
       "      <td>3.6</td>\n",
       "      <td>1</td>\n",
       "      <td>0.747214</td>\n",
       "      <td>NaN</td>\n",
       "      <td>80.367652</td>\n",
       "      <td>0.002512</td>\n",
       "    </tr>\n",
       "    <tr>\n",
       "      <th>8</th>\n",
       "      <td>90</td>\n",
       "      <td>0.00008</td>\n",
       "      <td>7.2</td>\n",
       "      <td>3.2</td>\n",
       "      <td>1</td>\n",
       "      <td>0.810930</td>\n",
       "      <td>NaN</td>\n",
       "      <td>90.367652</td>\n",
       "      <td>0.002696</td>\n",
       "    </tr>\n",
       "    <tr>\n",
       "      <th>9</th>\n",
       "      <td>100</td>\n",
       "      <td>0.00008</td>\n",
       "      <td>6.8</td>\n",
       "      <td>3.2</td>\n",
       "      <td>1</td>\n",
       "      <td>0.753772</td>\n",
       "      <td>NaN</td>\n",
       "      <td>100.367652</td>\n",
       "      <td>0.003850</td>\n",
       "    </tr>\n",
       "    <tr>\n",
       "      <th>10</th>\n",
       "      <td>200</td>\n",
       "      <td>0.00008</td>\n",
       "      <td>10.8</td>\n",
       "      <td>2.8</td>\n",
       "      <td>1</td>\n",
       "      <td>1.349927</td>\n",
       "      <td>NaN</td>\n",
       "      <td>200.367652</td>\n",
       "      <td>NaN</td>\n",
       "    </tr>\n",
       "    <tr>\n",
       "      <th>11</th>\n",
       "      <td>300</td>\n",
       "      <td>0.00008</td>\n",
       "      <td>16.0</td>\n",
       "      <td>2.4</td>\n",
       "      <td>1</td>\n",
       "      <td>1.897120</td>\n",
       "      <td>NaN</td>\n",
       "      <td>300.367652</td>\n",
       "      <td>NaN</td>\n",
       "    </tr>\n",
       "    <tr>\n",
       "      <th>12</th>\n",
       "      <td>400</td>\n",
       "      <td>0.00008</td>\n",
       "      <td>4.8</td>\n",
       "      <td>0.4</td>\n",
       "      <td>1</td>\n",
       "      <td>2.484907</td>\n",
       "      <td>NaN</td>\n",
       "      <td>400.367652</td>\n",
       "      <td>NaN</td>\n",
       "    </tr>\n",
       "  </tbody>\n",
       "</table>\n",
       "</div>"
      ],
      "text/plain": [
       "    Rm, Ohm     T, s  2Ui, ticks  2Ui+n, ticks  N    lambda   Q      R, Ohm  \\\n",
       "0        10  0.00008         5.2           2.4  2  0.386595 NaN   10.367652   \n",
       "1        20  0.00008        10.0           2.4  3  0.475705 NaN   20.367652   \n",
       "2        30  0.00008         9.6           2.0  3  0.522872 NaN   30.367652   \n",
       "3        40  0.00008         9.2           3.2  2  0.528026 NaN   40.367652   \n",
       "4        50  0.00008         8.8           2.8  2  0.572566 NaN   50.367652   \n",
       "5        60  0.00008         8.4           2.4  2  0.626381 NaN   60.367652   \n",
       "6        70  0.00008         8.0           2.0  2  0.693147 NaN   70.367652   \n",
       "7        80  0.00008         7.6           3.6  1  0.747214 NaN   80.367652   \n",
       "8        90  0.00008         7.2           3.2  1  0.810930 NaN   90.367652   \n",
       "9       100  0.00008         6.8           3.2  1  0.753772 NaN  100.367652   \n",
       "10      200  0.00008        10.8           2.8  1  1.349927 NaN  200.367652   \n",
       "11      300  0.00008        16.0           2.4  1  1.897120 NaN  300.367652   \n",
       "12      400  0.00008         4.8           0.4  1  2.484907 NaN  400.367652   \n",
       "\n",
       "        L, H  \n",
       "0   0.000156  \n",
       "1   0.000398  \n",
       "2   0.000732  \n",
       "3   0.001269  \n",
       "4   0.001680  \n",
       "5   0.002017  \n",
       "6   0.002238  \n",
       "7   0.002512  \n",
       "8   0.002696  \n",
       "9   0.003850  \n",
       "10       NaN  \n",
       "11       NaN  \n",
       "12       NaN  "
      ]
     },
     "execution_count": 3,
     "metadata": {},
     "output_type": "execute_result"
    }
   ],
   "source": [
    "data_1"
   ]
  },
  {
   "cell_type": "code",
   "execution_count": 4,
   "metadata": {},
   "outputs": [],
   "source": [
    "lambd = 1/data_1[\"N\"] * np.log(data_1['2Ui, ticks'] / data_1['2Ui+n, ticks'])\n",
    "\n",
    "data_1['lambda'] = lambd"
   ]
  },
  {
   "cell_type": "code",
   "execution_count": 5,
   "metadata": {},
   "outputs": [
    {
     "name": "stdout",
     "output_type": "stream",
     "text": [
      " \n",
      "0.004438 x + 0.3677\n"
     ]
    },
    {
     "data": {
      "image/png": "[encoded data removed]",
      "text/plain": [
       "<Figure size 640x480 with 1 Axes>"
      ]
     },
     "metadata": {},
     "output_type": "display_data"
    }
   ],
   "source": [
    "plt.scatter(data_1[\"Rm, Ohm\"], data_1[\"lambda\"], label = \"Данные\", color ='g', linewidth = 1)\n",
    "\n",
    "# print(data_1[\"Rm, Ohm\"].iloc[0:10])\n",
    "fit = np.polyfit(data_1[\"Rm, Ohm\"].iloc[0:10], data_1[\"lambda\"].iloc[0:10], 1 )\n",
    "line = np.poly1d(fit)\n",
    "x = np.linspace(0, 110)\n",
    "\n",
    "plt.plot(x, line(x), label=f\"{line}\".replace('x', 'Rm'), linewidth = 3)\n",
    "\n",
    "R0 = abs(fit[1]/fit[0])\n",
    "\n",
    "plt.xlabel(\"Rm, Ohm\")\n",
    "plt.ylabel(\"lambda\")\n",
    "plt.title(\"График зависимости логарифмического  декремента lambda от сопротивления магазина Rm\")\n",
    "plt.legend()\n",
    "print(line)"
   ]
  },
  {
   "cell_type": "code",
   "execution_count": 6,
   "metadata": {},
   "outputs": [
    {
     "data": {
      "text/plain": [
       "82.84922800626234"
      ]
     },
     "execution_count": 6,
     "metadata": {},
     "output_type": "execute_result"
    }
   ],
   "source": [
    "R0 "
   ]
  },
  {
   "cell_type": "markdown",
   "metadata": {},
   "source": [
    "Вычисление общего сопротивления и индуктивности для R = 10...100 Ом "
   ]
  },
  {
   "cell_type": "code",
   "execution_count": 7,
   "metadata": {},
   "outputs": [
    {
     "data": {
      "text/html": [
       "<div>\n",
       "<style scoped>\n",
       "    .dataframe tbody tr th:only-of-type {\n",
       "        vertical-align: middle;\n",
       "    }\n",
       "\n",
       "    .dataframe tbody tr th {\n",
       "        vertical-align: top;\n",
       "    }\n",
       "\n",
       "    .dataframe thead th {\n",
       "        text-align: right;\n",
       "    }\n",
       "</style>\n",
       "<table border=\"1\" class=\"dataframe\">\n",
       "  <thead>\n",
       "    <tr style=\"text-align: right;\">\n",
       "      <th></th>\n",
       "      <th>C1, F</th>\n",
       "      <th>C2, F</th>\n",
       "      <th>C3, F</th>\n",
       "      <th>C4, F</th>\n",
       "      <th>dC1</th>\n",
       "      <th>dC2</th>\n",
       "      <th>dC3</th>\n",
       "      <th>dC4</th>\n",
       "      <th>L, H</th>\n",
       "      <th>dL</th>\n",
       "      <th>f, Hz</th>\n",
       "    </tr>\n",
       "  </thead>\n",
       "  <tbody>\n",
       "    <tr>\n",
       "      <th>0</th>\n",
       "      <td>2.200000e-08</td>\n",
       "      <td>3.300000e-08</td>\n",
       "      <td>4.700000e-08</td>\n",
       "      <td>4.700000e-07</td>\n",
       "      <td>2.200000e-09</td>\n",
       "      <td>3.300000e-09</td>\n",
       "      <td>4.700000e-09</td>\n",
       "      <td>4.700000e-08</td>\n",
       "      <td>0.01</td>\n",
       "      <td>0.001</td>\n",
       "      <td>40</td>\n",
       "    </tr>\n",
       "  </tbody>\n",
       "</table>\n",
       "</div>"
      ],
      "text/plain": [
       "          C1, F         C2, F         C3, F        C4, F            dC1  \\\n",
       "0  2.200000e-08  3.300000e-08  4.700000e-08  4.700000e-07  2.200000e-09   \n",
       "\n",
       "            dC2           dC3           dC4  L, H     dL  f, Hz  \n",
       "0  3.300000e-09  4.700000e-09  4.700000e-08  0.01  0.001     40  "
      ]
     },
     "execution_count": 7,
     "metadata": {},
     "output_type": "execute_result"
    }
   ],
   "source": [
    "table_consts"
   ]
  },
  {
   "cell_type": "code",
   "execution_count": 8,
   "metadata": {},
   "outputs": [],
   "source": [
    "R = R0 + data_1[\"Rm, Ohm\"]\n",
    "L =  (np.pi * data_1[\"R, Ohm\"].iloc[0:10]) ** 2 * table_consts[\"C1, F\"].to_numpy() / data_1[\"lambda\"].iloc[0:10] ** 2\n",
    "\n",
    "data_1[\"R, Ohm\"] = R\n",
    "data_1[\"L, H\"] = L"
   ]
  },
  {
   "cell_type": "code",
   "execution_count": 12,
   "metadata": {},
   "outputs": [
    {
     "data": {
      "text/html": [
       "<div>\n",
       "<style scoped>\n",
       "    .dataframe tbody tr th:only-of-type {\n",
       "        vertical-align: middle;\n",
       "    }\n",
       "\n",
       "    .dataframe tbody tr th {\n",
       "        vertical-align: top;\n",
       "    }\n",
       "\n",
       "    .dataframe thead th {\n",
       "        text-align: right;\n",
       "    }\n",
       "</style>\n",
       "<table border=\"1\" class=\"dataframe\">\n",
       "  <thead>\n",
       "    <tr style=\"text-align: right;\">\n",
       "      <th></th>\n",
       "      <th>Rm, Ohm</th>\n",
       "      <th>T, s</th>\n",
       "      <th>2Ui, ticks</th>\n",
       "      <th>2Ui+n, ticks</th>\n",
       "      <th>N</th>\n",
       "      <th>lambda</th>\n",
       "      <th>Q</th>\n",
       "      <th>R, Ohm</th>\n",
       "      <th>L, H</th>\n",
       "    </tr>\n",
       "  </thead>\n",
       "  <tbody>\n",
       "    <tr>\n",
       "      <th>0</th>\n",
       "      <td>10</td>\n",
       "      <td>0.00008</td>\n",
       "      <td>5.2</td>\n",
       "      <td>2.4</td>\n",
       "      <td>2</td>\n",
       "      <td>0.386595</td>\n",
       "      <td>NaN</td>\n",
       "      <td>92.849228</td>\n",
       "      <td>0.000156</td>\n",
       "    </tr>\n",
       "    <tr>\n",
       "      <th>1</th>\n",
       "      <td>20</td>\n",
       "      <td>0.00008</td>\n",
       "      <td>10.0</td>\n",
       "      <td>2.4</td>\n",
       "      <td>3</td>\n",
       "      <td>0.475705</td>\n",
       "      <td>NaN</td>\n",
       "      <td>102.849228</td>\n",
       "      <td>0.000398</td>\n",
       "    </tr>\n",
       "    <tr>\n",
       "      <th>2</th>\n",
       "      <td>30</td>\n",
       "      <td>0.00008</td>\n",
       "      <td>9.6</td>\n",
       "      <td>2.0</td>\n",
       "      <td>3</td>\n",
       "      <td>0.522872</td>\n",
       "      <td>NaN</td>\n",
       "      <td>112.849228</td>\n",
       "      <td>0.000732</td>\n",
       "    </tr>\n",
       "    <tr>\n",
       "      <th>3</th>\n",
       "      <td>40</td>\n",
       "      <td>0.00008</td>\n",
       "      <td>9.2</td>\n",
       "      <td>3.2</td>\n",
       "      <td>2</td>\n",
       "      <td>0.528026</td>\n",
       "      <td>NaN</td>\n",
       "      <td>122.849228</td>\n",
       "      <td>0.001269</td>\n",
       "    </tr>\n",
       "    <tr>\n",
       "      <th>4</th>\n",
       "      <td>50</td>\n",
       "      <td>0.00008</td>\n",
       "      <td>8.8</td>\n",
       "      <td>2.8</td>\n",
       "      <td>2</td>\n",
       "      <td>0.572566</td>\n",
       "      <td>NaN</td>\n",
       "      <td>132.849228</td>\n",
       "      <td>0.001680</td>\n",
       "    </tr>\n",
       "    <tr>\n",
       "      <th>5</th>\n",
       "      <td>60</td>\n",
       "      <td>0.00008</td>\n",
       "      <td>8.4</td>\n",
       "      <td>2.4</td>\n",
       "      <td>2</td>\n",
       "      <td>0.626381</td>\n",
       "      <td>NaN</td>\n",
       "      <td>142.849228</td>\n",
       "      <td>0.002017</td>\n",
       "    </tr>\n",
       "    <tr>\n",
       "      <th>6</th>\n",
       "      <td>70</td>\n",
       "      <td>0.00008</td>\n",
       "      <td>8.0</td>\n",
       "      <td>2.0</td>\n",
       "      <td>2</td>\n",
       "      <td>0.693147</td>\n",
       "      <td>NaN</td>\n",
       "      <td>152.849228</td>\n",
       "      <td>0.002238</td>\n",
       "    </tr>\n",
       "    <tr>\n",
       "      <th>7</th>\n",
       "      <td>80</td>\n",
       "      <td>0.00008</td>\n",
       "      <td>7.6</td>\n",
       "      <td>3.6</td>\n",
       "      <td>1</td>\n",
       "      <td>0.747214</td>\n",
       "      <td>NaN</td>\n",
       "      <td>162.849228</td>\n",
       "      <td>0.002512</td>\n",
       "    </tr>\n",
       "    <tr>\n",
       "      <th>8</th>\n",
       "      <td>90</td>\n",
       "      <td>0.00008</td>\n",
       "      <td>7.2</td>\n",
       "      <td>3.2</td>\n",
       "      <td>1</td>\n",
       "      <td>0.810930</td>\n",
       "      <td>NaN</td>\n",
       "      <td>172.849228</td>\n",
       "      <td>0.002696</td>\n",
       "    </tr>\n",
       "    <tr>\n",
       "      <th>9</th>\n",
       "      <td>100</td>\n",
       "      <td>0.00008</td>\n",
       "      <td>6.8</td>\n",
       "      <td>3.2</td>\n",
       "      <td>1</td>\n",
       "      <td>0.753772</td>\n",
       "      <td>NaN</td>\n",
       "      <td>182.849228</td>\n",
       "      <td>0.003850</td>\n",
       "    </tr>\n",
       "    <tr>\n",
       "      <th>10</th>\n",
       "      <td>200</td>\n",
       "      <td>0.00008</td>\n",
       "      <td>10.8</td>\n",
       "      <td>2.8</td>\n",
       "      <td>1</td>\n",
       "      <td>1.349927</td>\n",
       "      <td>NaN</td>\n",
       "      <td>282.849228</td>\n",
       "      <td>NaN</td>\n",
       "    </tr>\n",
       "    <tr>\n",
       "      <th>11</th>\n",
       "      <td>300</td>\n",
       "      <td>0.00008</td>\n",
       "      <td>16.0</td>\n",
       "      <td>2.4</td>\n",
       "      <td>1</td>\n",
       "      <td>1.897120</td>\n",
       "      <td>NaN</td>\n",
       "      <td>382.849228</td>\n",
       "      <td>NaN</td>\n",
       "    </tr>\n",
       "    <tr>\n",
       "      <th>12</th>\n",
       "      <td>400</td>\n",
       "      <td>0.00008</td>\n",
       "      <td>4.8</td>\n",
       "      <td>0.4</td>\n",
       "      <td>1</td>\n",
       "      <td>2.484907</td>\n",
       "      <td>NaN</td>\n",
       "      <td>482.849228</td>\n",
       "      <td>NaN</td>\n",
       "    </tr>\n",
       "  </tbody>\n",
       "</table>\n",
       "</div>"
      ],
      "text/plain": [
       "    Rm, Ohm     T, s  2Ui, ticks  2Ui+n, ticks  N    lambda   Q      R, Ohm  \\\n",
       "0        10  0.00008         5.2           2.4  2  0.386595 NaN   92.849228   \n",
       "1        20  0.00008        10.0           2.4  3  0.475705 NaN  102.849228   \n",
       "2        30  0.00008         9.6           2.0  3  0.522872 NaN  112.849228   \n",
       "3        40  0.00008         9.2           3.2  2  0.528026 NaN  122.849228   \n",
       "4        50  0.00008         8.8           2.8  2  0.572566 NaN  132.849228   \n",
       "5        60  0.00008         8.4           2.4  2  0.626381 NaN  142.849228   \n",
       "6        70  0.00008         8.0           2.0  2  0.693147 NaN  152.849228   \n",
       "7        80  0.00008         7.6           3.6  1  0.747214 NaN  162.849228   \n",
       "8        90  0.00008         7.2           3.2  1  0.810930 NaN  172.849228   \n",
       "9       100  0.00008         6.8           3.2  1  0.753772 NaN  182.849228   \n",
       "10      200  0.00008        10.8           2.8  1  1.349927 NaN  282.849228   \n",
       "11      300  0.00008        16.0           2.4  1  1.897120 NaN  382.849228   \n",
       "12      400  0.00008         4.8           0.4  1  2.484907 NaN  482.849228   \n",
       "\n",
       "        L, H  \n",
       "0   0.000156  \n",
       "1   0.000398  \n",
       "2   0.000732  \n",
       "3   0.001269  \n",
       "4   0.001680  \n",
       "5   0.002017  \n",
       "6   0.002238  \n",
       "7   0.002512  \n",
       "8   0.002696  \n",
       "9   0.003850  \n",
       "10       NaN  \n",
       "11       NaN  \n",
       "12       NaN  "
      ]
     },
     "execution_count": 12,
     "metadata": {},
     "output_type": "execute_result"
    }
   ],
   "source": [
    "data_1"
   ]
  },
  {
   "cell_type": "code",
   "execution_count": 11,
   "metadata": {},
   "outputs": [
    {
     "data": {
      "text/plain": [
       "0.0017548415063718854"
      ]
     },
     "execution_count": 11,
     "metadata": {},
     "output_type": "execute_result"
    }
   ],
   "source": [
    "L.mean()"
   ]
  },
  {
   "cell_type": "markdown",
   "metadata": {
    "pycharm": {
     "name": "#%% md\n"
    }
   },
   "source": [
    "##  Сохранение в файл всех новых данных"
   ]
  },
  {
   "cell_type": "code",
   "execution_count": 67,
   "metadata": {
    "pycharm": {
     "name": "#%%\n"
    }
   },
   "outputs": [
    {
     "name": "stderr",
     "output_type": "stream",
     "text": [
      "/var/folders/4m/cdm9j52s2fs9_8ccjqtb1sy00000gn/T/ipykernel_27799/1270109265.py:9: FutureWarning: save is not part of the public API, usage can give in unexpected results and will be removed in a future version\n",
      "  writer.save()\n"
     ]
    }
   ],
   "source": [
    "# Create a Pandas Excel writer using XlsxWriter as the engine.\n",
    "writer = pd.ExcelWriter(NAME_OF_EXCEL)\n",
    "\n",
    "data_1.to_excel(writer, index=False, sheet_name='table1')\n",
    "data_2.to_excel(writer, index=False, sheet_name='table2')\n",
    "table_consts.to_excel(writer, index=False, sheet_name='consts')\n",
    "\n",
    "# Close the Pandas Excel writer and output the Excel file.\n",
    "writer.save()"
   ]
  },
  {
   "cell_type": "code",
   "execution_count": null,
   "metadata": {},
   "outputs": [],
   "source": []
  }
 ],
 "metadata": {
  "kernelspec": {
   "display_name": "Python 3.9.4 ('физика': venv)",
   "language": "python",
   "name": "python3"
  },
  "language_info": {
   "codemirror_mode": {
    "name": "ipython",
    "version": 3
   },
   "file_extension": ".py",
   "mimetype": "text/x-python",
   "name": "python",
   "nbconvert_exporter": "python",
   "pygments_lexer": "ipython3",
   "version": "3.9.4"
  },
  "orig_nbformat": 4,
  "vscode": {
   "interpreter": {
    "hash": "8a6346fe04895c09f63061fdcb1f4ae785c0a2dafb06bd47121824d93a6d8cae"
   }
  }
 },
 "nbformat": 4,
 "nbformat_minor": 2
}
