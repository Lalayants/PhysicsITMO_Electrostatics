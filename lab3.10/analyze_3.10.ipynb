{
 "cells": [
  {
   "cell_type": "markdown",
   "metadata": {
    "pycharm": {
     "name": "#%% md\n"
    }
   },
   "source": [
    "## Preparation"
   ]
  },
  {
   "cell_type": "markdown",
   "metadata": {
    "pycharm": {
     "name": "#%% md\n"
    }
   },
   "source": [
    "Все нужные либы и проверка в какой директории работаем"
   ]
  },
  {
   "cell_type": "markdown",
   "metadata": {
    "pycharm": {
     "name": "#%% md\n"
    }
   },
   "source": [
    "Эту ячеку надо выполнять только в первый раз для установки всех либ. Лучше создать env"
   ]
  },
  {
   "cell_type": "code",
   "execution_count": 1,
   "metadata": {
    "pycharm": {
     "name": "#%%\n"
    }
   },
   "outputs": [],
   "source": [
    "!pip3 install -r ../requirements.txt\n",
    "\n",
    "from IPython.display import clear_output\n",
    "clear_output() # если что-то не работает, уберите эту строчку и смотрите на ошибки"
   ]
  },
  {
   "cell_type": "markdown",
   "metadata": {
    "pycharm": {
     "name": "#%% md\n"
    }
   },
   "source": [
    "Импорт всех либ"
   ]
  },
  {
   "cell_type": "code",
   "execution_count": 50,
   "metadata": {
    "pycharm": {
     "name": "#%%\n"
    }
   },
   "outputs": [
    {
     "data": {
      "text/plain": [
       "'/Users/kirilllalayants/physics/PhysicsITMO_Electrostatics/lab3.10'"
      ]
     },
     "execution_count": 50,
     "metadata": {},
     "output_type": "execute_result"
    }
   ],
   "source": [
    "import numpy as np\n",
    "import matplotlib.pyplot as plt\n",
    "import pandas as pd\n",
    "import os\n",
    "import xlsxwriter\n",
    "os.getcwd()\n",
    "\n"
   ]
  },
  {
   "cell_type": "markdown",
   "metadata": {
    "pycharm": {
     "name": "#%% md\n"
    }
   },
   "source": [
    "Создание эксель файла, в котором потом все сохраним\n"
   ]
  },
  {
   "cell_type": "code",
   "execution_count": 51,
   "metadata": {
    "pycharm": {
     "name": "#%%\n"
    }
   },
   "outputs": [
    {
     "name": "stdout",
     "output_type": "stream",
     "text": [
      "(1, 14) (13, 9) (4, 4)\n"
     ]
    }
   ],
   "source": [
    "NAME_OF_EXCEL = 'data.xlsx'\n",
    "# if not os.path.exists(NAME_OF_EXCEL):\n",
    "#     xlsxwriter.Workbook(NAME_OF_EXCEL).close()\n",
    "data_1 = pd.read_excel(NAME_OF_EXCEL, 'table1')\n",
    "data_2 = pd.read_excel(NAME_OF_EXCEL, 'table2')\n",
    "table_consts = pd.read_excel(NAME_OF_EXCEL, 'consts')\n",
    "print(table_consts.shape, data_1.shape, data_2.shape)\n"
   ]
  },
  {
   "cell_type": "markdown",
   "metadata": {},
   "source": [
    "# Обработка"
   ]
  },
  {
   "cell_type": "markdown",
   "metadata": {},
   "source": [
    "### 1. Вычислить  значения  логарифмического  декремента lambda"
   ]
  },
  {
   "cell_type": "code",
   "execution_count": 52,
   "metadata": {},
   "outputs": [
    {
     "data": {
      "text/html": [
       "<div>\n",
       "<style scoped>\n",
       "    .dataframe tbody tr th:only-of-type {\n",
       "        vertical-align: middle;\n",
       "    }\n",
       "\n",
       "    .dataframe tbody tr th {\n",
       "        vertical-align: top;\n",
       "    }\n",
       "\n",
       "    .dataframe thead th {\n",
       "        text-align: right;\n",
       "    }\n",
       "</style>\n",
       "<table border=\"1\" class=\"dataframe\">\n",
       "  <thead>\n",
       "    <tr style=\"text-align: right;\">\n",
       "      <th></th>\n",
       "      <th>Rm, Ohm</th>\n",
       "      <th>T, s</th>\n",
       "      <th>2Ui, ticks</th>\n",
       "      <th>2Ui+n, ticks</th>\n",
       "      <th>N</th>\n",
       "      <th>lambda</th>\n",
       "      <th>Q</th>\n",
       "      <th>R, Ohm</th>\n",
       "      <th>L, H</th>\n",
       "    </tr>\n",
       "  </thead>\n",
       "  <tbody>\n",
       "    <tr>\n",
       "      <th>0</th>\n",
       "      <td>10</td>\n",
       "      <td>0.00008</td>\n",
       "      <td>5.2</td>\n",
       "      <td>2.4</td>\n",
       "      <td>2</td>\n",
       "      <td>0.386595</td>\n",
       "      <td>11.668773</td>\n",
       "      <td>92.849228</td>\n",
       "      <td>0.012525</td>\n",
       "    </tr>\n",
       "    <tr>\n",
       "      <th>1</th>\n",
       "      <td>20</td>\n",
       "      <td>0.00008</td>\n",
       "      <td>10.0</td>\n",
       "      <td>2.4</td>\n",
       "      <td>3</td>\n",
       "      <td>0.475705</td>\n",
       "      <td>10.236464</td>\n",
       "      <td>102.849228</td>\n",
       "      <td>0.010150</td>\n",
       "    </tr>\n",
       "    <tr>\n",
       "      <th>2</th>\n",
       "      <td>30</td>\n",
       "      <td>0.00008</td>\n",
       "      <td>9.6</td>\n",
       "      <td>2.0</td>\n",
       "      <td>3</td>\n",
       "      <td>0.522872</td>\n",
       "      <td>9.687756</td>\n",
       "      <td>112.849228</td>\n",
       "      <td>0.010114</td>\n",
       "    </tr>\n",
       "    <tr>\n",
       "      <th>3</th>\n",
       "      <td>40</td>\n",
       "      <td>0.00008</td>\n",
       "      <td>9.2</td>\n",
       "      <td>3.2</td>\n",
       "      <td>2</td>\n",
       "      <td>0.528026</td>\n",
       "      <td>9.634217</td>\n",
       "      <td>122.849228</td>\n",
       "      <td>0.011753</td>\n",
       "    </tr>\n",
       "    <tr>\n",
       "      <th>4</th>\n",
       "      <td>50</td>\n",
       "      <td>0.00008</td>\n",
       "      <td>8.8</td>\n",
       "      <td>2.8</td>\n",
       "      <td>2</td>\n",
       "      <td>0.572566</td>\n",
       "      <td>9.215338</td>\n",
       "      <td>132.849228</td>\n",
       "      <td>0.011689</td>\n",
       "    </tr>\n",
       "    <tr>\n",
       "      <th>5</th>\n",
       "      <td>60</td>\n",
       "      <td>0.00008</td>\n",
       "      <td>8.4</td>\n",
       "      <td>2.4</td>\n",
       "      <td>2</td>\n",
       "      <td>0.626381</td>\n",
       "      <td>8.796459</td>\n",
       "      <td>142.849228</td>\n",
       "      <td>0.011293</td>\n",
       "    </tr>\n",
       "    <tr>\n",
       "      <th>6</th>\n",
       "      <td>70</td>\n",
       "      <td>0.00008</td>\n",
       "      <td>8.0</td>\n",
       "      <td>2.0</td>\n",
       "      <td>2</td>\n",
       "      <td>0.693147</td>\n",
       "      <td>8.377580</td>\n",
       "      <td>152.849228</td>\n",
       "      <td>0.010558</td>\n",
       "    </tr>\n",
       "    <tr>\n",
       "      <th>7</th>\n",
       "      <td>80</td>\n",
       "      <td>0.00008</td>\n",
       "      <td>7.6</td>\n",
       "      <td>3.6</td>\n",
       "      <td>1</td>\n",
       "      <td>0.747214</td>\n",
       "      <td>8.100821</td>\n",
       "      <td>162.849228</td>\n",
       "      <td>0.010313</td>\n",
       "    </tr>\n",
       "    <tr>\n",
       "      <th>8</th>\n",
       "      <td>90</td>\n",
       "      <td>0.00008</td>\n",
       "      <td>7.2</td>\n",
       "      <td>3.2</td>\n",
       "      <td>1</td>\n",
       "      <td>0.810930</td>\n",
       "      <td>7.829816</td>\n",
       "      <td>172.849228</td>\n",
       "      <td>0.009865</td>\n",
       "    </tr>\n",
       "    <tr>\n",
       "      <th>9</th>\n",
       "      <td>100</td>\n",
       "      <td>0.00008</td>\n",
       "      <td>6.8</td>\n",
       "      <td>3.2</td>\n",
       "      <td>1</td>\n",
       "      <td>0.753772</td>\n",
       "      <td>8.070402</td>\n",
       "      <td>182.849228</td>\n",
       "      <td>0.012777</td>\n",
       "    </tr>\n",
       "    <tr>\n",
       "      <th>10</th>\n",
       "      <td>200</td>\n",
       "      <td>0.00008</td>\n",
       "      <td>10.8</td>\n",
       "      <td>2.8</td>\n",
       "      <td>1</td>\n",
       "      <td>1.349927</td>\n",
       "      <td>6.735944</td>\n",
       "      <td>282.849228</td>\n",
       "      <td>0.009533</td>\n",
       "    </tr>\n",
       "    <tr>\n",
       "      <th>11</th>\n",
       "      <td>300</td>\n",
       "      <td>0.00008</td>\n",
       "      <td>16.0</td>\n",
       "      <td>2.4</td>\n",
       "      <td>1</td>\n",
       "      <td>1.897120</td>\n",
       "      <td>6.427811</td>\n",
       "      <td>382.849228</td>\n",
       "      <td>0.008843</td>\n",
       "    </tr>\n",
       "    <tr>\n",
       "      <th>12</th>\n",
       "      <td>400</td>\n",
       "      <td>0.00008</td>\n",
       "      <td>4.8</td>\n",
       "      <td>0.4</td>\n",
       "      <td>1</td>\n",
       "      <td>2.484907</td>\n",
       "      <td>6.327124</td>\n",
       "      <td>482.849228</td>\n",
       "      <td>0.008198</td>\n",
       "    </tr>\n",
       "  </tbody>\n",
       "</table>\n",
       "</div>"
      ],
      "text/plain": [
       "    Rm, Ohm     T, s  2Ui, ticks  2Ui+n, ticks  N    lambda          Q  \\\n",
       "0        10  0.00008         5.2           2.4  2  0.386595  11.668773   \n",
       "1        20  0.00008        10.0           2.4  3  0.475705  10.236464   \n",
       "2        30  0.00008         9.6           2.0  3  0.522872   9.687756   \n",
       "3        40  0.00008         9.2           3.2  2  0.528026   9.634217   \n",
       "4        50  0.00008         8.8           2.8  2  0.572566   9.215338   \n",
       "5        60  0.00008         8.4           2.4  2  0.626381   8.796459   \n",
       "6        70  0.00008         8.0           2.0  2  0.693147   8.377580   \n",
       "7        80  0.00008         7.6           3.6  1  0.747214   8.100821   \n",
       "8        90  0.00008         7.2           3.2  1  0.810930   7.829816   \n",
       "9       100  0.00008         6.8           3.2  1  0.753772   8.070402   \n",
       "10      200  0.00008        10.8           2.8  1  1.349927   6.735944   \n",
       "11      300  0.00008        16.0           2.4  1  1.897120   6.427811   \n",
       "12      400  0.00008         4.8           0.4  1  2.484907   6.327124   \n",
       "\n",
       "        R, Ohm      L, H  \n",
       "0    92.849228  0.012525  \n",
       "1   102.849228  0.010150  \n",
       "2   112.849228  0.010114  \n",
       "3   122.849228  0.011753  \n",
       "4   132.849228  0.011689  \n",
       "5   142.849228  0.011293  \n",
       "6   152.849228  0.010558  \n",
       "7   162.849228  0.010313  \n",
       "8   172.849228  0.009865  \n",
       "9   182.849228  0.012777  \n",
       "10  282.849228  0.009533  \n",
       "11  382.849228  0.008843  \n",
       "12  482.849228  0.008198  "
      ]
     },
     "execution_count": 52,
     "metadata": {},
     "output_type": "execute_result"
    }
   ],
   "source": [
    "data_1"
   ]
  },
  {
   "cell_type": "code",
   "execution_count": 53,
   "metadata": {},
   "outputs": [],
   "source": [
    "lambd = 1/data_1[\"N\"] * np.log(data_1['2Ui, ticks'] / data_1['2Ui+n, ticks'])\n",
    "dN = 0.1\n",
    "dlambd = np.sqrt((1/data_1[\"N\"] / data_1['2Ui, ticks'] * data_1['2Ui+n, ticks'] * 1 /data_1['2Ui+n, ticks'] * dN )**2\\\n",
    "    + (1/data_1[\"N\"] / data_1['2Ui, ticks'] * data_1['2Ui+n, ticks'] * data_1['2Ui, ticks']/data_1['2Ui+n, ticks']**2 * dN )**2)                     \n",
    "\n",
    "data_1['lambda'] = lambd\n",
    "data_1[\"dlabmda\"] = dlambd"
   ]
  },
  {
   "cell_type": "code",
   "execution_count": 54,
   "metadata": {},
   "outputs": [
    {
     "name": "stdout",
     "output_type": "stream",
     "text": [
      " \n",
      "0.004438 x + 0.3677\n"
     ]
    },
    {
     "data": {
      "image/png": "[encoded data removed]",
      "text/plain": [
       "<Figure size 640x480 with 1 Axes>"
      ]
     },
     "metadata": {},
     "output_type": "display_data"
    }
   ],
   "source": [
    "plt.scatter(data_1[\"Rm, Ohm\"], data_1[\"lambda\"],\n",
    "            label=\"Данные\", color='g', linewidth=1)\n",
    "\n",
    "\n",
    "# print(data_1[\"Rm, Ohm\"].iloc[0:10])\n",
    "fit = np.polyfit(data_1[\"Rm, Ohm\"].iloc[0:10], data_1[\"lambda\"].iloc[0:10], 1)\n",
    "line = np.poly1d(fit)\n",
    "x = np.linspace(0, 110)\n",
    "\n",
    "plt.plot(x, line(x), label=f\"{line}\".replace('x', 'Rm'), linewidth=3)\n",
    "\n",
    "R0 = abs(fit[1]/fit[0])\n",
    "\n",
    "plt.xlabel(\"Rm, Ohm\")\n",
    "plt.ylabel(\"lambda\")\n",
    "plt.title(\"График зависимости логарифмического  декремента lambda от сопротивления магазина Rm\")\n",
    "plt.legend()\n",
    "print(line)\n"
   ]
  },
  {
   "cell_type": "code",
   "execution_count": 55,
   "metadata": {},
   "outputs": [
    {
     "data": {
      "text/plain": [
       "82.84922800626234"
      ]
     },
     "execution_count": 55,
     "metadata": {},
     "output_type": "execute_result"
    }
   ],
   "source": [
    "table_consts[\"R_0, Ohm\"] = R0\n",
    "R0"
   ]
  },
  {
   "cell_type": "markdown",
   "metadata": {},
   "source": [
    "Вычисление общего сопротивления и индуктивности для R = 10...100 Ом "
   ]
  },
  {
   "cell_type": "code",
   "execution_count": 56,
   "metadata": {},
   "outputs": [],
   "source": [
    "R = R0 + data_1[\"Rm, Ohm\"]\n",
    "data_1[\"R, Ohm\"] = R\n",
    "\n",
    "L = (np.pi * data_1[\"R, Ohm\"].iloc[0:13].to_numpy()) ** 2 * \\\n",
    "    table_consts[\"C1, F\"].to_numpy() / data_1[\"lambda\"].iloc[0:13].to_numpy() ** 2\n",
    "\n",
    "dL = np.sqrt((L/lambd * dlambd)**2)\n",
    "data_1[\"L, H\"] = L\n",
    "data_1[\"dL, H\"] = dL\n",
    "\n",
    "L_mean = L.mean()\n",
    "table_consts[\"L_mean, H\"] = L_mean\n"
   ]
  },
  {
   "cell_type": "markdown",
   "metadata": {},
   "source": [
    "Вычисление добротности"
   ]
  },
  {
   "cell_type": "code",
   "execution_count": 57,
   "metadata": {},
   "outputs": [
    {
     "data": {
      "text/plain": [
       "Text(0.5, 1.0, 'График зависимости добротности Q от сопротивления R')"
      ]
     },
     "execution_count": 57,
     "metadata": {},
     "output_type": "execute_result"
    },
    {
     "data": {
      "image/png": "[encoded data removed]",
      "text/plain": [
       "<Figure size 640x480 with 1 Axes>"
      ]
     },
     "metadata": {},
     "output_type": "display_data"
    }
   ],
   "source": [
    "Q = 2 * np.pi/(1-np.exp(-2 * data_1[\"lambda\"].iloc[0:13].to_numpy()))\n",
    "dQ = np.sqrt((Q / (1-np.exp(-2 * data_1[\"lambda\"].iloc[0:13].to_numpy())) * -2 * data_1[\"lambda\"].iloc[0:13].to_numpy() * np.exp(-2 * data_1[\"lambda\"].iloc[0:13].to_numpy()) * dlambd)**2)\n",
    "data_1[\"Q\"] = Q\n",
    "data_1[\"dQ\"] = dQ\n",
    "\n",
    "# Q_for_lowR = 1 / data_1[\"R, Ohm\"].iloc[0:1].to_numpy() * np.sqrt(data_1[\"L, H\"].iloc[0:1].to_numpy() / table_consts[\"C1, F\"].to_numpy())\n",
    "# print((Q[0] - Q_for_lowR)/Q[0])\n",
    "\n",
    "# fit = np.polyfit(Q, data_1[\"Rm, Ohm\"], 1 )\n",
    "# line = np.poly1d(fit)\n",
    "# x = np.linspace(0, 13)\n",
    "\n",
    "# plt.plot(line(x), x)\n",
    "\n",
    "plt.scatter(data_1[\"R, Ohm\"],  Q, label=\"Данные\")\n",
    "plt.xlabel(\"R, Ohm\")\n",
    "plt.ylabel(\"Q\")\n",
    "plt.legend()\n",
    "plt.title(\"График зависимости добротности Q от сопротивления R\")\n"
   ]
  },
  {
   "cell_type": "code",
   "execution_count": 58,
   "metadata": {},
   "outputs": [
    {
     "name": "stdout",
     "output_type": "stream",
     "text": [
      "R полученное эксперементально = 600\n",
      "R_critical = 1387.3105436413832\n"
     ]
    }
   ],
   "source": [
    "R_no_fluctuations = 600\n",
    "table_consts[\"R_no_fluctuations, Ohm\"] = R_no_fluctuations\n",
    "R_critical = 2 * np.sqrt(L_mean/table_consts[\"C1, F\"].to_numpy())\n",
    "print(\n",
    "    f\"R полученное эксперементально = {R_no_fluctuations}\\nR_critical = {R_critical.item()}\")\n"
   ]
  },
  {
   "cell_type": "code",
   "execution_count": 59,
   "metadata": {},
   "outputs": [],
   "source": [
    "C = data_2[\"C\"].to_numpy()\n",
    "T_exp = data_2[\"T_exp, c\"].to_numpy()\n",
    "T_theory = np.pi * 2/np.sqrt(1/(L_mean * C) - R0 ** 2 / (4*L_mean**2))\n",
    "\n",
    "data_2[\"T_theory, c\"] = T_theory\n",
    "data_2[\"deltaT\"] = (T_exp - T_theory)/T_theory\n"
   ]
  },
  {
   "cell_type": "markdown",
   "metadata": {
    "pycharm": {
     "name": "#%% md\n"
    }
   },
   "source": [
    "##  Сохранение в файл всех новых данных"
   ]
  },
  {
   "cell_type": "code",
   "execution_count": 60,
   "metadata": {
    "pycharm": {
     "name": "#%%\n"
    }
   },
   "outputs": [
    {
     "name": "stderr",
     "output_type": "stream",
     "text": [
      "/var/folders/4m/cdm9j52s2fs9_8ccjqtb1sy00000gn/T/ipykernel_22055/1270109265.py:9: FutureWarning: save is not part of the public API, usage can give in unexpected results and will be removed in a future version\n",
      "  writer.save()\n"
     ]
    }
   ],
   "source": [
    "# Create a Pandas Excel writer using XlsxWriter as the engine.\n",
    "writer = pd.ExcelWriter(NAME_OF_EXCEL)\n",
    "\n",
    "data_1.to_excel(writer, index=False, sheet_name='table1')\n",
    "data_2.to_excel(writer, index=False, sheet_name='table2')\n",
    "table_consts.to_excel(writer, index=False, sheet_name='consts')\n",
    "\n",
    "# Close the Pandas Excel writer and output the Excel file.\n",
    "writer.save()"
   ]
  },
  {
   "cell_type": "code",
   "execution_count": null,
   "metadata": {},
   "outputs": [],
   "source": []
  }
 ],
 "metadata": {
  "kernelspec": {
   "display_name": "Python 3.11.0 64-bit ('study')",
   "language": "python",
   "name": "python3"
  },
  "language_info": {
   "codemirror_mode": {
    "name": "ipython",
    "version": 3
   },
   "file_extension": ".py",
   "mimetype": "text/x-python",
   "name": "python",
   "nbconvert_exporter": "python",
   "pygments_lexer": "ipython3",
   "version": "3.11.0"
  },
  "orig_nbformat": 4,
  "vscode": {
   "interpreter": {
    "hash": "15a4fa75d5afaf4ca320b140a41eaaf942af6dd29a5021d971bdd199875f0fe3"
   }
  }
 },
 "nbformat": 4,
 "nbformat_minor": 2
}
