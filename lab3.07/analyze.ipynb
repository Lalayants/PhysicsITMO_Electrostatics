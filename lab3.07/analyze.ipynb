{
 "cells": [
  {
   "cell_type": "markdown",
   "metadata": {
    "pycharm": {
     "name": "#%% md\n"
    }
   },
   "source": [
    "## Preparation"
   ]
  },
  {
   "cell_type": "markdown",
   "metadata": {
    "pycharm": {
     "name": "#%% md\n"
    }
   },
   "source": [
    "Все нужные либы и проверка в какой директории работаем"
   ]
  },
  {
   "cell_type": "markdown",
   "metadata": {
    "pycharm": {
     "name": "#%% md\n"
    }
   },
   "source": [
    "Эту ячеку надо выполнять только в первый раз для установки всех либ. Лучше создать env"
   ]
  },
  {
   "cell_type": "code",
   "execution_count": 1,
   "metadata": {
    "pycharm": {
     "name": "#%%\n"
    }
   },
   "outputs": [],
   "source": [
    "!pip3 install -r ../requirements.txt\n",
    "\n",
    "from IPython.display import clear_output\n",
    "clear_output() # если что-то не работает, уберите эту строчку и смотрите на ошибки"
   ]
  },
  {
   "cell_type": "markdown",
   "metadata": {
    "pycharm": {
     "name": "#%% md\n"
    }
   },
   "source": [
    "Импорт всех либ"
   ]
  },
  {
   "cell_type": "code",
   "execution_count": 2,
   "metadata": {
    "pycharm": {
     "name": "#%%\n"
    }
   },
   "outputs": [
    {
     "data": {
      "text/plain": [
       "'/Users/kirilllalayants/Desktop/физика/PhysicsITMO_Electrostatics/lab3.07'"
      ]
     },
     "execution_count": 2,
     "metadata": {},
     "output_type": "execute_result"
    }
   ],
   "source": [
    "import numpy as np\n",
    "import matplotlib.pyplot as plt\n",
    "import pandas as pd\n",
    "import os \n",
    "import xlsxwriter\n",
    "os.getcwd()"
   ]
  },
  {
   "cell_type": "markdown",
   "metadata": {
    "pycharm": {
     "name": "#%% md\n"
    }
   },
   "source": [
    "Создание эксель файла, в котором потом все сохраним\n"
   ]
  },
  {
   "cell_type": "code",
   "execution_count": 3,
   "metadata": {
    "pycharm": {
     "name": "#%%\n"
    }
   },
   "outputs": [
    {
     "data": {
      "text/html": [
       "<div>\n",
       "<style scoped>\n",
       "    .dataframe tbody tr th:only-of-type {\n",
       "        vertical-align: middle;\n",
       "    }\n",
       "\n",
       "    .dataframe tbody tr th {\n",
       "        vertical-align: top;\n",
       "    }\n",
       "\n",
       "    .dataframe thead th {\n",
       "        text-align: right;\n",
       "    }\n",
       "</style>\n",
       "<table border=\"1\" class=\"dataframe\">\n",
       "  <thead>\n",
       "    <tr style=\"text-align: right;\">\n",
       "      <th></th>\n",
       "    </tr>\n",
       "  </thead>\n",
       "  <tbody>\n",
       "  </tbody>\n",
       "</table>\n",
       "</div>"
      ],
      "text/plain": [
       "Empty DataFrame\n",
       "Columns: []\n",
       "Index: []"
      ]
     },
     "execution_count": 3,
     "metadata": {},
     "output_type": "execute_result"
    }
   ],
   "source": [
    "NAME_OF_EXCEL = 'data.xlsx'\n",
    "if not os.path.exists(NAME_OF_EXCEL):\n",
    "    xlsxwriter.Workbook(NAME_OF_EXCEL).close()\n",
    "data = pd.read_excel(NAME_OF_EXCEL)  \n",
    "data"
   ]
  },
  {
   "cell_type": "markdown",
   "metadata": {
    "pycharm": {
     "name": "#%% md\n"
    }
   },
   "source": [
    "Все нужные колонки в np.array"
   ]
  },
  {
   "cell_type": "code",
   "execution_count": 4,
   "metadata": {
    "pycharm": {
     "name": "#%%\n"
    }
   },
   "outputs": [],
   "source": [
    "# полученные данные, если они в excel\n",
    "# I = data[\"I, mA\"].to_numpy() \n",
    "# U = data[\"U, В\"].to_numpy()\n",
    "# R = data[\"R\"].to_numpy()\n",
    "\n",
    "#Полученные данные, если руками вбивать\n",
    "# I = np.array([14.1, 12.12, 10.84, 9.74, 8.73, 8.01, 7.33, 6.71, 6.28, 5.92, 5.56, 5.25, 4.96, 4.66, 4.55])\n",
    "# U = np.array([0.74, 2.07, 2.94, 3.69, 4.37, 4.86, 5.32, 5.74, 6.03, 6.27, 6.51, 6.73, 6.93, 7.13, 7.16])\n",
    "# R = np.array([100*i for i in range(1,16)])\n",
    "\n",
    "\n",
    "# Погрешности\n",
    "# dI = 0.01\n",
    "# dU = 0.01\n",
    "# dR = 50\n"
   ]
  },
  {
   "cell_type": "markdown",
   "metadata": {
    "pycharm": {
     "name": "#%% md\n"
    }
   },
   "source": [
    "##  Сохранение в файл всех новых данных"
   ]
  },
  {
   "cell_type": "code",
   "execution_count": null,
   "metadata": {
    "pycharm": {
     "name": "#%%\n"
    }
   },
   "outputs": [],
   "source": [
    "# data[\"R\"] = R\n",
    "\n",
    "data.to_excel(NAME_OF_EXCEL, index=False)\n",
    "data"
   ]
  }
 ],
 "metadata": {
  "kernelspec": {
   "display_name": "Python 3.9.4 ('физика': venv)",
   "language": "python",
   "name": "python3"
  },
  "language_info": {
   "codemirror_mode": {
    "name": "ipython",
    "version": 3
   },
   "file_extension": ".py",
   "mimetype": "text/x-python",
   "name": "python",
   "nbconvert_exporter": "python",
   "pygments_lexer": "ipython3",
   "version": "3.9.4"
  },
  "orig_nbformat": 4,
  "vscode": {
   "interpreter": {
    "hash": "8a6346fe04895c09f63061fdcb1f4ae785c0a2dafb06bd47121824d93a6d8cae"
   }
  }
 },
 "nbformat": 4,
 "nbformat_minor": 2
}
