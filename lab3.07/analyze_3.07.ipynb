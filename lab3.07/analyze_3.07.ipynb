{
 "cells": [
  {
   "cell_type": "markdown",
   "metadata": {
    "pycharm": {
     "name": "#%% md\n"
    }
   },
   "source": [
    "## Preparation"
   ]
  },
  {
   "cell_type": "markdown",
   "metadata": {
    "pycharm": {
     "name": "#%% md\n"
    }
   },
   "source": [
    "Все нужные либы и проверка в какой директории работаем"
   ]
  },
  {
   "cell_type": "markdown",
   "metadata": {
    "pycharm": {
     "name": "#%% md\n"
    }
   },
   "source": [
    "Эту ячеку надо выполнять только в первый раз для установки всех либ. Лучше создать env"
   ]
  },
  {
   "cell_type": "code",
   "execution_count": 1,
   "metadata": {
    "pycharm": {
     "name": "#%%\n"
    }
   },
   "outputs": [],
   "source": [
    "!pip3 install -r ../requirements.txt\n",
    "\n",
    "from IPython.display import clear_output\n",
    "clear_output() # если что-то не работает, уберите эту строчку и смотрите на ошибки"
   ]
  },
  {
   "cell_type": "markdown",
   "metadata": {
    "pycharm": {
     "name": "#%% md\n"
    }
   },
   "source": [
    "Импорт всех либ"
   ]
  },
  {
   "cell_type": "code",
   "execution_count": 1,
   "metadata": {
    "pycharm": {
     "name": "#%%\n"
    }
   },
   "outputs": [
    {
     "data": {
      "text/plain": [
       "'/Users/kirilllalayants/Desktop/физика/PhysicsITMO_Electrostatics/lab3.07'"
      ]
     },
     "execution_count": 1,
     "metadata": {},
     "output_type": "execute_result"
    }
   ],
   "source": [
    "import numpy as np\n",
    "import matplotlib.pyplot as plt\n",
    "import pandas as pd\n",
    "import os \n",
    "import xlsxwriter\n",
    "os.getcwd()"
   ]
  },
  {
   "cell_type": "markdown",
   "metadata": {
    "pycharm": {
     "name": "#%% md\n"
    }
   },
   "source": [
    "Создание эксель файла, в котором потом все сохраним\n"
   ]
  },
  {
   "cell_type": "code",
   "execution_count": 2,
   "metadata": {
    "pycharm": {
     "name": "#%%\n"
    }
   },
   "outputs": [
    {
     "name": "stdout",
     "output_type": "stream",
     "text": [
      "(1, 18) (1, 8) (1, 10) (16, 9)\n"
     ]
    }
   ],
   "source": [
    "NAME_OF_EXCEL = 'data.xlsx'\n",
    "# if not os.path.exists(NAME_OF_EXCEL):\n",
    "#     xlsxwriter.Workbook(NAME_OF_EXCEL).close()\n",
    "data_1 = pd.read_excel(NAME_OF_EXCEL, 'table_1')  \n",
    "data_2 = pd.read_excel(NAME_OF_EXCEL, 'table_2')  \n",
    "data_3 = pd.read_excel(NAME_OF_EXCEL, 'table_3')  \n",
    "table_consts = pd.read_excel(NAME_OF_EXCEL, 'consts')  \n",
    "print(table_consts.shape, data_1.shape, data_2.shape,data_3.shape ) "
   ]
  },
  {
   "cell_type": "markdown",
   "metadata": {},
   "source": [
    "Предобработка "
   ]
  },
  {
   "cell_type": "code",
   "execution_count": 3,
   "metadata": {},
   "outputs": [],
   "source": [
    "# data_1[\"Kx, mV\"] = data_1[\"Kx, mV\"]/1000\n",
    "# data_1[\"Ky, mV\"] = data_1[\"Ky, mV\"]/1000\n",
    "# data_2[\"Kx, mV\"] = data_2[\"Kx, mV\"]/1000\n",
    "# data_2[\"Ky, mV\"] = data_2[\"Ky, mV\"]/1000\n",
    "# data_3[\"Kx, mV\"] = data_3[\"Kx, mV\"]/1000\n",
    "# data_3[\"Ky, mV\"] = data_3[\"Ky, mV\"]/1000"
   ]
  },
  {
   "cell_type": "markdown",
   "metadata": {},
   "source": [
    "# Обработка"
   ]
  },
  {
   "cell_type": "markdown",
   "metadata": {},
   "source": [
    "### Таблица констант"
   ]
  },
  {
   "cell_type": "code",
   "execution_count": 4,
   "metadata": {},
   "outputs": [
    {
     "data": {
      "text/html": [
       "<div>\n",
       "<style scoped>\n",
       "    .dataframe tbody tr th:only-of-type {\n",
       "        vertical-align: middle;\n",
       "    }\n",
       "\n",
       "    .dataframe tbody tr th {\n",
       "        vertical-align: top;\n",
       "    }\n",
       "\n",
       "    .dataframe thead th {\n",
       "        text-align: right;\n",
       "    }\n",
       "</style>\n",
       "<table border=\"1\" class=\"dataframe\">\n",
       "  <thead>\n",
       "    <tr style=\"text-align: right;\">\n",
       "      <th></th>\n",
       "      <th>N1</th>\n",
       "      <th>N2</th>\n",
       "      <th>l, m</th>\n",
       "      <th>R1, Om</th>\n",
       "      <th>R2, Om</th>\n",
       "      <th>C1, F</th>\n",
       "      <th>S, sqm</th>\n",
       "      <th>dl</th>\n",
       "      <th>dR1</th>\n",
       "      <th>dR2</th>\n",
       "      <th>dC1</th>\n",
       "      <th>dS</th>\n",
       "      <th>alpha</th>\n",
       "      <th>beta</th>\n",
       "      <th>ksi</th>\n",
       "      <th>f, Hz</th>\n",
       "      <th>dalpha</th>\n",
       "      <th>dbeta</th>\n",
       "    </tr>\n",
       "  </thead>\n",
       "  <tbody>\n",
       "    <tr>\n",
       "      <th>0</th>\n",
       "      <td>1665</td>\n",
       "      <td>970</td>\n",
       "      <td>0.078</td>\n",
       "      <td>68</td>\n",
       "      <td>470000</td>\n",
       "      <td>4.700000e-07</td>\n",
       "      <td>0.000064</td>\n",
       "      <td>0.001</td>\n",
       "      <td>6.8</td>\n",
       "      <td>47000</td>\n",
       "      <td>4.700000e-08</td>\n",
       "      <td>0.000005</td>\n",
       "      <td>313.914027</td>\n",
       "      <td>3.558312</td>\n",
       "      <td>0.000836</td>\n",
       "      <td>30</td>\n",
       "      <td>31.648335</td>\n",
       "      <td>0.574902</td>\n",
       "    </tr>\n",
       "  </tbody>\n",
       "</table>\n",
       "</div>"
      ],
      "text/plain": [
       "     N1   N2   l, m  R1, Om  R2, Om         C1, F    S, sqm    dl   dR1  \\\n",
       "0  1665  970  0.078      68  470000  4.700000e-07  0.000064  0.001  6.8   \n",
       "\n",
       "     dR2           dC1        dS       alpha      beta       ksi  f, Hz  \\\n",
       "0  47000  4.700000e-08  0.000005  313.914027  3.558312  0.000836     30   \n",
       "\n",
       "      dalpha     dbeta  \n",
       "0  31.648335  0.574902  "
      ]
     },
     "execution_count": 4,
     "metadata": {},
     "output_type": "execute_result"
    }
   ],
   "source": [
    "table_consts"
   ]
  },
  {
   "cell_type": "code",
   "execution_count": 5,
   "metadata": {},
   "outputs": [
    {
     "name": "stdout",
     "output_type": "stream",
     "text": [
      "𝛼 = (314 +- 32) 1/(m * Om),  eps_𝛼 = 10.0%\n",
      "β = (3.6 +- 0.6) Om * Ф/m^2,  eps_β = 16.2%\n"
     ]
    }
   ],
   "source": [
    "alpha = table_consts['N1']/(table_consts['l, m'] * table_consts['R1, Om'])\n",
    "dalpha = np.sqrt((table_consts['N1']/(table_consts['l, m'] **2 * table_consts['R1, Om'])*table_consts['dl '])**2 +(table_consts['N1']/(table_consts['l, m'] * table_consts['R1, Om']**2 )*table_consts['dR1'])**2)\n",
    "\n",
    "beta = table_consts['R2, Om'] * table_consts['C1, F']/(table_consts['N2'] * table_consts['S, sqm'])\n",
    "dbeta = np.sqrt((beta / table_consts['R2, Om'] * table_consts['dR2'])**2 + (beta / table_consts['C1, F'] * table_consts['dC1'])**2 + (beta / table_consts['S, sqm'] * table_consts['dS'])**2)\n",
    "\n",
    "print(f\"𝛼 = ({round(alpha.item())} +- {round(dalpha.item())}) 1/(m * Om),  eps_𝛼 = {round((dalpha/alpha).item(), 2)* 100}%\")\n",
    "print(f\"β = ({round(beta.item(), 1)} +- {round(dbeta.item(), 1)}) Om * Ф/m^2,  eps_β = {round((dbeta/beta).item(), 3) * 100}%\")\n",
    "\n",
    "f = 30\n",
    "ksi = data_1[\"Kx, mV\"] * data_1[\"Ky, mV\"] * table_consts['N1'] * table_consts['R2, Om'] * table_consts['C1, F'] * f / (table_consts['N2'] * table_consts['R1, Om'])\n",
    "\n",
    "table_consts['alpha'] = alpha\n",
    "table_consts['beta'] = beta\n",
    "table_consts['ksi'] = ksi\n",
    "table_consts['f, Hz'] = f\n",
    "table_consts['dalpha'] = dalpha\n",
    "table_consts['dbeta'] = dbeta\n"
   ]
  },
  {
   "cell_type": "markdown",
   "metadata": {},
   "source": [
    "### 1. Значение коэрцитивной силы, остаточной индукции и магнитной проницаемости в состоянии насыщения."
   ]
  },
  {
   "cell_type": "code",
   "execution_count": 6,
   "metadata": {},
   "outputs": [
    {
     "name": "stdout",
     "output_type": "stream",
     "text": [
      "Br = (0.178 +- 0.029) Тл,  eps_Br = 16.0%\n",
      "Hc = (25.1 +- 2.5) А/м,  eps_Hc = 10.0%\n"
     ]
    }
   ],
   "source": [
    "# Коэрцитивная сила Hc\n",
    "Hc = (alpha * data_1[\"Xc, ticks\"] * data_1[\"Kx, mV\"]).to_numpy()\n",
    "dHc = np.sqrt((Hc/alpha * dalpha) ** 2)\n",
    "\n",
    "# Рассчет остаточной индукции Br\n",
    "Br = (beta * data_1[\"Yr, ticks\"] * data_1[\"Ky, mV\"]).to_numpy()\n",
    "dBr = np.sqrt((Br/beta * dbeta) ** 2)\n",
    "\n",
    "print(f\"Br = ({round(Br.item(), 3)} +- {round(dBr.item(), 3)}) Тл,  eps_Br = {round((dBr/Br).item(), 2)* 100}%\")\n",
    "print(f\"Hc = ({round(Hc.item(), 1)} +- {round(dHc.item(), 1)}) А/м,  eps_Hc = {round((dHc/Hc).item(), 2)* 100}%\")\n",
    "\n",
    "data_1['Hc, A/m'] = Hc \n",
    "data_1['Br, Tl'] = Br \n",
    "data_1['dHc'] = dHc \n",
    "data_1['dBr'] = dBr "
   ]
  },
  {
   "cell_type": "code",
   "execution_count": 7,
   "metadata": {},
   "outputs": [
    {
     "name": "stdout",
     "output_type": "stream",
     "text": [
      "Bm = (0.498 +- 0.08) Тл,  eps_Br = 16.0%\n",
      "Hm = (132 +- 13) А/м,  eps_Hc = 10.0%\n",
      "𝜇 = (3007 +- 573),  eps_𝜇 = 19.0%\n"
     ]
    }
   ],
   "source": [
    "# Коэрцитивная сила Hm\n",
    "Hm = (alpha * data_2[\"Xm, ticks\"] * data_2[\"Kx, mV\"]).to_numpy()\n",
    "dHm = np.sqrt((Hm/alpha * dalpha) ** 2)\n",
    "\n",
    "# Рассчет остаточной индукции Bm\n",
    "Bm = (beta * data_2[\"Ym, ticks\"] * data_2[\"Ky, mV\"]).to_numpy()\n",
    "dBm = np.sqrt((Bm/beta * dbeta) ** 2)\n",
    "\n",
    "# Рассчет магнитной проницаемости mu\n",
    "Mum = Bm / (Hm * 4 * np.pi * 10 ** -7 )\n",
    "dMum = np.sqrt((Mum / Bm * dBm)**2 + (Mum / Hm * dHm)**2)\n",
    "\n",
    "print(f\"Bm = ({round(Bm.item(), 3)} +- {round(dBm.item(), 3)}) Тл,  eps_Br = {round((dBm/Bm).item(), 2)* 100}%\")\n",
    "print(f\"Hm = ({round(Hm.item())} +- {round(dHm.item())}) А/м,  eps_Hc = {round((dHm/Hm).item(), 2)* 100}%\")\n",
    "print(f\"𝜇 = ({round(Mum.item())} +- {round(dMum.item())}),  eps_𝜇 = {round((dMum/Mum).item(), 2)* 100}%\")\n",
    "\n",
    "data_2['Hm, A/m'] = Hm\n",
    "data_2['Bm, Tl'] = Bm \n",
    "data_2['Mum'] = Mum\n",
    "data_2['dHm'] = dHm\n",
    "data_2['dBm'] = dBm \n",
    "data_2['dMum'] = dMum"
   ]
  },
  {
   "cell_type": "markdown",
   "metadata": {},
   "source": [
    "### 2. Мощность потерь на перемагничивание ферромагнетика (с оценкой величины ее погрешности)."
   ]
  },
  {
   "cell_type": "code",
   "execution_count": 8,
   "metadata": {},
   "outputs": [
    {
     "name": "stdout",
     "output_type": "stream",
     "text": [
      "χ = (0.00084 +- 0.00014) Дж/с, eps_ksi = 17.0%\n",
      "P = (0.006 +- 0.001) Ватт, eps_P = 17.0%\n"
     ]
    }
   ],
   "source": [
    "f = 30\n",
    "ksi = data_1[\"Kx, mV\"] * data_1[\"Ky, mV\"] * table_consts['N1'] * table_consts['R2, Om'] * table_consts['C1, F'] * f / (table_consts['N2'] * table_consts['R1, Om'])\n",
    "dksi = np.sqrt((ksi/table_consts['R2, Om'] * table_consts['dR2'])**2 + (ksi / table_consts['C1, F'] * table_consts['dC1'])**2 + (ksi / table_consts['R1, Om'] *  table_consts['dR1'])**2)\n",
    "\n",
    "S = 7.16  # клеток\n",
    "P = ksi * S\n",
    "dP = np.sqrt((P/ksi * dksi)**2)\n",
    "\n",
    "print(f\"χ = ({round(ksi.item(), 5)} +- {round(dksi.item(), 5)}) Дж/с, eps_ksi = {round((dksi/ksi).item(), 2)* 100}%\")\n",
    "print(f\"P = ({round(P.item(), 4)} +- {round(dP.item(), 4)}) Ватт, eps_P = {round((dP/P).item(), 2)* 100}%\")\n",
    "table_consts['ksi'] = ksi\n",
    "table_consts['f, Hz'] = f"
   ]
  },
  {
   "cell_type": "markdown",
   "metadata": {},
   "source": [
    "### 3. Графики зависимостей магнитной индукции и проницаемости от напряженности: 𝐵 = 𝐵(𝐻) и 𝜇 = 𝜇(𝐻)"
   ]
  },
  {
   "cell_type": "code",
   "execution_count": 9,
   "metadata": {},
   "outputs": [
    {
     "data": {
      "text/html": [
       "<div>\n",
       "<style scoped>\n",
       "    .dataframe tbody tr th:only-of-type {\n",
       "        vertical-align: middle;\n",
       "    }\n",
       "\n",
       "    .dataframe tbody tr th {\n",
       "        vertical-align: top;\n",
       "    }\n",
       "\n",
       "    .dataframe thead th {\n",
       "        text-align: right;\n",
       "    }\n",
       "</style>\n",
       "<table border=\"1\" class=\"dataframe\">\n",
       "  <thead>\n",
       "    <tr style=\"text-align: right;\">\n",
       "      <th></th>\n",
       "      <th>U, V</th>\n",
       "      <th>S, small sq</th>\n",
       "      <th>X, ticks</th>\n",
       "      <th>Kx, mV</th>\n",
       "      <th>H, A/m</th>\n",
       "      <th>Y, ticks</th>\n",
       "      <th>Ky, mV</th>\n",
       "      <th>mu</th>\n",
       "      <th>B, Tl</th>\n",
       "    </tr>\n",
       "  </thead>\n",
       "  <tbody>\n",
       "    <tr>\n",
       "      <th>0</th>\n",
       "      <td>5</td>\n",
       "      <td>3.370</td>\n",
       "      <td>1.6</td>\n",
       "      <td>0.05</td>\n",
       "      <td>25.113122</td>\n",
       "      <td>2.0</td>\n",
       "      <td>0.02</td>\n",
       "      <td>4510.175334</td>\n",
       "      <td>0.142332</td>\n",
       "    </tr>\n",
       "    <tr>\n",
       "      <th>1</th>\n",
       "      <td>6</td>\n",
       "      <td>5.070</td>\n",
       "      <td>1.6</td>\n",
       "      <td>0.05</td>\n",
       "      <td>25.113122</td>\n",
       "      <td>2.4</td>\n",
       "      <td>0.02</td>\n",
       "      <td>5412.210401</td>\n",
       "      <td>0.170799</td>\n",
       "    </tr>\n",
       "    <tr>\n",
       "      <th>2</th>\n",
       "      <td>7</td>\n",
       "      <td>4.970</td>\n",
       "      <td>1.8</td>\n",
       "      <td>0.05</td>\n",
       "      <td>28.252262</td>\n",
       "      <td>2.6</td>\n",
       "      <td>0.02</td>\n",
       "      <td>5211.758164</td>\n",
       "      <td>0.185032</td>\n",
       "    </tr>\n",
       "    <tr>\n",
       "      <th>3</th>\n",
       "      <td>8</td>\n",
       "      <td>7.265</td>\n",
       "      <td>2.2</td>\n",
       "      <td>0.05</td>\n",
       "      <td>34.530543</td>\n",
       "      <td>3.0</td>\n",
       "      <td>0.02</td>\n",
       "      <td>4920.191273</td>\n",
       "      <td>0.213499</td>\n",
       "    </tr>\n",
       "    <tr>\n",
       "      <th>4</th>\n",
       "      <td>9</td>\n",
       "      <td>8.405</td>\n",
       "      <td>2.4</td>\n",
       "      <td>0.05</td>\n",
       "      <td>37.669683</td>\n",
       "      <td>3.4</td>\n",
       "      <td>0.02</td>\n",
       "      <td>5111.532045</td>\n",
       "      <td>0.241965</td>\n",
       "    </tr>\n",
       "    <tr>\n",
       "      <th>5</th>\n",
       "      <td>10</td>\n",
       "      <td>10.010</td>\n",
       "      <td>2.8</td>\n",
       "      <td>0.05</td>\n",
       "      <td>43.947964</td>\n",
       "      <td>3.8</td>\n",
       "      <td>0.02</td>\n",
       "      <td>4896.761791</td>\n",
       "      <td>0.270432</td>\n",
       "    </tr>\n",
       "    <tr>\n",
       "      <th>6</th>\n",
       "      <td>11</td>\n",
       "      <td>5.110</td>\n",
       "      <td>3.2</td>\n",
       "      <td>0.05</td>\n",
       "      <td>50.226244</td>\n",
       "      <td>1.6</td>\n",
       "      <td>0.05</td>\n",
       "      <td>4510.175334</td>\n",
       "      <td>0.284665</td>\n",
       "    </tr>\n",
       "    <tr>\n",
       "      <th>7</th>\n",
       "      <td>12</td>\n",
       "      <td>5.570</td>\n",
       "      <td>3.6</td>\n",
       "      <td>0.05</td>\n",
       "      <td>56.504525</td>\n",
       "      <td>1.8</td>\n",
       "      <td>0.05</td>\n",
       "      <td>4510.175334</td>\n",
       "      <td>0.320248</td>\n",
       "    </tr>\n",
       "    <tr>\n",
       "      <th>8</th>\n",
       "      <td>13</td>\n",
       "      <td>4.060</td>\n",
       "      <td>2.0</td>\n",
       "      <td>0.10</td>\n",
       "      <td>62.782805</td>\n",
       "      <td>1.8</td>\n",
       "      <td>0.05</td>\n",
       "      <td>4059.157801</td>\n",
       "      <td>0.320248</td>\n",
       "    </tr>\n",
       "    <tr>\n",
       "      <th>9</th>\n",
       "      <td>14</td>\n",
       "      <td>4.840</td>\n",
       "      <td>2.4</td>\n",
       "      <td>0.10</td>\n",
       "      <td>75.339367</td>\n",
       "      <td>2.2</td>\n",
       "      <td>0.05</td>\n",
       "      <td>4134.327389</td>\n",
       "      <td>0.391414</td>\n",
       "    </tr>\n",
       "    <tr>\n",
       "      <th>10</th>\n",
       "      <td>15</td>\n",
       "      <td>5.670</td>\n",
       "      <td>2.6</td>\n",
       "      <td>0.10</td>\n",
       "      <td>81.617647</td>\n",
       "      <td>2.4</td>\n",
       "      <td>0.05</td>\n",
       "      <td>4163.238770</td>\n",
       "      <td>0.426997</td>\n",
       "    </tr>\n",
       "    <tr>\n",
       "      <th>11</th>\n",
       "      <td>16</td>\n",
       "      <td>5.730</td>\n",
       "      <td>2.8</td>\n",
       "      <td>0.10</td>\n",
       "      <td>87.895928</td>\n",
       "      <td>2.4</td>\n",
       "      <td>0.05</td>\n",
       "      <td>3865.864572</td>\n",
       "      <td>0.426997</td>\n",
       "    </tr>\n",
       "    <tr>\n",
       "      <th>12</th>\n",
       "      <td>17</td>\n",
       "      <td>6.170</td>\n",
       "      <td>3.0</td>\n",
       "      <td>0.10</td>\n",
       "      <td>94.174208</td>\n",
       "      <td>2.6</td>\n",
       "      <td>0.05</td>\n",
       "      <td>3908.818623</td>\n",
       "      <td>0.462581</td>\n",
       "    </tr>\n",
       "    <tr>\n",
       "      <th>13</th>\n",
       "      <td>18</td>\n",
       "      <td>6.320</td>\n",
       "      <td>3.2</td>\n",
       "      <td>0.10</td>\n",
       "      <td>100.452489</td>\n",
       "      <td>2.6</td>\n",
       "      <td>0.05</td>\n",
       "      <td>3664.517459</td>\n",
       "      <td>0.462581</td>\n",
       "    </tr>\n",
       "    <tr>\n",
       "      <th>14</th>\n",
       "      <td>19</td>\n",
       "      <td>6.635</td>\n",
       "      <td>3.6</td>\n",
       "      <td>0.10</td>\n",
       "      <td>113.009050</td>\n",
       "      <td>2.8</td>\n",
       "      <td>0.05</td>\n",
       "      <td>3507.914149</td>\n",
       "      <td>0.498164</td>\n",
       "    </tr>\n",
       "    <tr>\n",
       "      <th>15</th>\n",
       "      <td>20</td>\n",
       "      <td>7.160</td>\n",
       "      <td>4.2</td>\n",
       "      <td>0.10</td>\n",
       "      <td>131.843891</td>\n",
       "      <td>2.8</td>\n",
       "      <td>0.05</td>\n",
       "      <td>3006.783556</td>\n",
       "      <td>0.498164</td>\n",
       "    </tr>\n",
       "  </tbody>\n",
       "</table>\n",
       "</div>"
      ],
      "text/plain": [
       "    U, V  S, small sq  X, ticks  Kx, mV      H, A/m  Y, ticks  Ky, mV  \\\n",
       "0      5        3.370       1.6    0.05   25.113122       2.0    0.02   \n",
       "1      6        5.070       1.6    0.05   25.113122       2.4    0.02   \n",
       "2      7        4.970       1.8    0.05   28.252262       2.6    0.02   \n",
       "3      8        7.265       2.2    0.05   34.530543       3.0    0.02   \n",
       "4      9        8.405       2.4    0.05   37.669683       3.4    0.02   \n",
       "5     10       10.010       2.8    0.05   43.947964       3.8    0.02   \n",
       "6     11        5.110       3.2    0.05   50.226244       1.6    0.05   \n",
       "7     12        5.570       3.6    0.05   56.504525       1.8    0.05   \n",
       "8     13        4.060       2.0    0.10   62.782805       1.8    0.05   \n",
       "9     14        4.840       2.4    0.10   75.339367       2.2    0.05   \n",
       "10    15        5.670       2.6    0.10   81.617647       2.4    0.05   \n",
       "11    16        5.730       2.8    0.10   87.895928       2.4    0.05   \n",
       "12    17        6.170       3.0    0.10   94.174208       2.6    0.05   \n",
       "13    18        6.320       3.2    0.10  100.452489       2.6    0.05   \n",
       "14    19        6.635       3.6    0.10  113.009050       2.8    0.05   \n",
       "15    20        7.160       4.2    0.10  131.843891       2.8    0.05   \n",
       "\n",
       "             mu     B, Tl  \n",
       "0   4510.175334  0.142332  \n",
       "1   5412.210401  0.170799  \n",
       "2   5211.758164  0.185032  \n",
       "3   4920.191273  0.213499  \n",
       "4   5111.532045  0.241965  \n",
       "5   4896.761791  0.270432  \n",
       "6   4510.175334  0.284665  \n",
       "7   4510.175334  0.320248  \n",
       "8   4059.157801  0.320248  \n",
       "9   4134.327389  0.391414  \n",
       "10  4163.238770  0.426997  \n",
       "11  3865.864572  0.426997  \n",
       "12  3908.818623  0.462581  \n",
       "13  3664.517459  0.462581  \n",
       "14  3507.914149  0.498164  \n",
       "15  3006.783556  0.498164  "
      ]
     },
     "execution_count": 9,
     "metadata": {},
     "output_type": "execute_result"
    }
   ],
   "source": [
    "data_3"
   ]
  },
  {
   "cell_type": "code",
   "execution_count": 10,
   "metadata": {},
   "outputs": [],
   "source": [
    "data_3[\"H, A/m\"] = alpha.to_numpy() * data_3[\"X, ticks\"].to_numpy() * data_3[\"Kx, mV\"].to_numpy()\n",
    "data_3[\"B, Tl\"] = beta.to_numpy() * data_3[\"Y, ticks\"].to_numpy() * data_3[\"Ky, mV\"].to_numpy() \n",
    "data_3['mu'] = data_3[\"B, Tl\"].to_numpy() / (data_3[\"H, A/m\"].to_numpy() * 4 * np.pi * 10 ** -7)"
   ]
  },
  {
   "cell_type": "code",
   "execution_count": 11,
   "metadata": {},
   "outputs": [
    {
     "data": {
      "text/plain": [
       "<matplotlib.legend.Legend at 0x130995a30>"
      ]
     },
     "execution_count": 11,
     "metadata": {},
     "output_type": "execute_result"
    },
    {
     "data": {
      "image/png": "[encoded data removed]",
      "text/plain": [
       "<Figure size 640x480 with 1 Axes>"
      ]
     },
     "metadata": {},
     "output_type": "display_data"
    }
   ],
   "source": [
    "plt.scatter(data_3[\"H, A/m\"], data_3[\"B, Tl\"], label = \"Данные\")\n",
    "plt.xlabel(\"H, A/m\")\n",
    "plt.ylabel(\"B, Tl\")\n",
    "plt.title(\"График зависимости магнитной индукции B от напряженности H\")\n",
    "plt.legend()"
   ]
  },
  {
   "cell_type": "code",
   "execution_count": 12,
   "metadata": {},
   "outputs": [
    {
     "data": {
      "text/plain": [
       "<matplotlib.legend.Legend at 0x130b85160>"
      ]
     },
     "execution_count": 12,
     "metadata": {},
     "output_type": "execute_result"
    },
    {
     "data": {
      "image/png": "[encoded data removed]",
      "text/plain": [
       "<Figure size 640x480 with 1 Axes>"
      ]
     },
     "metadata": {},
     "output_type": "display_data"
    }
   ],
   "source": [
    "plt.scatter(data_3[\"H, A/m\"], data_3[\"mu\"], label = \"Данные\")\n",
    "plt.xlabel(\"H, A/m\")\n",
    "plt.ylabel(\"μ\")\n",
    "plt.title(\"График зависимости проницаемости mu от напряженности H\")\n",
    "plt.legend()"
   ]
  },
  {
   "cell_type": "markdown",
   "metadata": {},
   "source": [
    "### 4. Максимальное значение проницаемости 𝜇𝑚𝑎𝑥 и напряженность поля, при которой она наблюдается."
   ]
  },
  {
   "cell_type": "code",
   "execution_count": 13,
   "metadata": {},
   "outputs": [
    {
     "name": "stdout",
     "output_type": "stream",
     "text": [
      "μ_max = 5412.2, Tl \n",
      "при H = 25.1, A/m\n"
     ]
    }
   ],
   "source": [
    "index = data_3[\"mu\"].to_numpy().argmax()\n",
    "mu_max = data_3[\"mu\"].iloc[index]\n",
    "A_for_mu_max = data_3[\"H, A/m\"].iloc[index]\n",
    "print(f\"μ_max = {mu_max.round(1)}, Tl \\nпри H = {A_for_mu_max.round(1)}, A/m\")"
   ]
  },
  {
   "cell_type": "markdown",
   "metadata": {
    "pycharm": {
     "name": "#%% md\n"
    }
   },
   "source": [
    "##  Сохранение в файл всех новых данных"
   ]
  },
  {
   "cell_type": "code",
   "execution_count": 36,
   "metadata": {
    "pycharm": {
     "name": "#%%\n"
    }
   },
   "outputs": [
    {
     "name": "stderr",
     "output_type": "stream",
     "text": [
      "/var/folders/4m/cdm9j52s2fs9_8ccjqtb1sy00000gn/T/ipykernel_19108/1824329816.py:10: FutureWarning: save is not part of the public API, usage can give in unexpected results and will be removed in a future version\n",
      "  writer.save()\n"
     ]
    }
   ],
   "source": [
    "# Create a Pandas Excel writer using XlsxWriter as the engine.\n",
    "writer = pd.ExcelWriter(NAME_OF_EXCEL)\n",
    "\n",
    "data_1.to_excel(writer, index=False, sheet_name='table_1')\n",
    "data_2.to_excel(writer, index=False, sheet_name='table_2')\n",
    "data_3.to_excel(writer, index=False, sheet_name='table_3')\n",
    "table_consts.to_excel(writer, index=False, sheet_name='consts')\n",
    "\n",
    "# Close the Pandas Excel writer and output the Excel file.\n",
    "writer.save()"
   ]
  }
 ],
 "metadata": {
  "kernelspec": {
   "display_name": "Python 3.9.4 ('физика': venv)",
   "language": "python",
   "name": "python3"
  },
  "language_info": {
   "codemirror_mode": {
    "name": "ipython",
    "version": 3
   },
   "file_extension": ".py",
   "mimetype": "text/x-python",
   "name": "python",
   "nbconvert_exporter": "python",
   "pygments_lexer": "ipython3",
   "version": "3.9.4"
  },
  "orig_nbformat": 4,
  "vscode": {
   "interpreter": {
    "hash": "8a6346fe04895c09f63061fdcb1f4ae785c0a2dafb06bd47121824d93a6d8cae"
   }
  }
 },
 "nbformat": 4,
 "nbformat_minor": 2
}
