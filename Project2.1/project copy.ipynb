{
 "cells": [
  {
   "cell_type": "markdown",
   "metadata": {},
   "source": [
    "#  Тема 1. Движение заряженной частицы в магнитном поле прямого тока направленного по оси Ох."
   ]
  },
  {
   "cell_type": "markdown",
   "metadata": {},
   "source": [
    "# Задание \n",
    "Построить проекции траектории частицы на координатные плоскости для произвольной начальной скорости частицы. В частности построить траекторию частицы для случая, когда начальная скорость частицы лежит в плоскости хОу и направлена под произвольным углом к направлению тока.\n"
   ]
  },
  {
   "cell_type": "markdown",
   "metadata": {},
   "source": [
    "# Модель\n",
    "Уравнение движения имеет вид\n",
    "$$m\\frac{d\\vec{V}}{dt} = e[\\vec{V}, \\vec{B}]$$\n",
    ", где B - магнитная идукция, m и е - масса и заряд частицы"
   ]
  },
  {
   "cell_type": "markdown",
   "metadata": {},
   "source": [
    "# Моделирование"
   ]
  },
  {
   "cell_type": "code",
   "execution_count": 2,
   "metadata": {},
   "outputs": [],
   "source": [
    "import numpy as np\n",
    "import matplotlib.pyplot as plt\n",
    "import model\n"
   ]
  },
  {
   "cell_type": "markdown",
   "metadata": {},
   "source": [
    "### Параметры системы"
   ]
  },
  {
   "cell_type": "code",
   "execution_count": 3,
   "metadata": {},
   "outputs": [],
   "source": [
    "# Параметры частицы\n",
    "x0, y0, z0 = 1, 1, 1  # стартовая позиция\n",
    "alpha, betta = np.pi/4, np.pi/4  # угол xOy и zOxy\n",
    "v0 = 1  # стартовая скорость\n",
    "e, m = 1, 1  # заряд и масса\n",
    "\n",
    "# Параметры провода\n",
    "I = 2  # A\n",
    "R = 0.1  # м "
   ]
  }
 ],
 "metadata": {
  "kernelspec": {
   "display_name": "Python 3.11.0 64-bit ('3.11.0')",
   "language": "python",
   "name": "python3"
  },
  "language_info": {
   "codemirror_mode": {
    "name": "ipython",
    "version": 3
   },
   "file_extension": ".py",
   "mimetype": "text/x-python",
   "name": "python",
   "nbconvert_exporter": "python",
   "pygments_lexer": "ipython3",
   "version": "3.11.0"
  },
  "orig_nbformat": 4,
  "vscode": {
   "interpreter": {
    "hash": "737380ce9bb101e74fa4768388ec0e7e079a62043d84f2a95f0356f74edfceb7"
   }
  }
 },
 "nbformat": 4,
 "nbformat_minor": 2
}
